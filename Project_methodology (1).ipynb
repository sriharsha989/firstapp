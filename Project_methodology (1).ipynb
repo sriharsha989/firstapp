{
  "cells": [
    {
      "cell_type": "markdown",
      "metadata": {
        "id": "2UhBP4z5ssnn"
      },
      "source": [
        "##Installing Transformers"
      ]
    },
    {
      "cell_type": "code",
      "execution_count": null,
      "metadata": {
        "colab": {
          "base_uri": "https://localhost:8080/"
        },
        "id": "dVslVTq6TAnf",
        "outputId": "d98a1b3a-47d9-4b1c-9395-35b9ac0e0465"
      },
      "outputs": [
        {
          "name": "stdout",
          "output_type": "stream",
          "text": [
            "Defaulting to user installation because normal site-packages is not writeable\n",
            "Requirement already satisfied: transformers in /Users/sri/Library/Python/3.9/lib/python/site-packages (4.40.1)\n",
            "Requirement already satisfied: regex!=2019.12.17 in /Users/sri/Library/Python/3.9/lib/python/site-packages (from transformers) (2024.4.28)\n",
            "Requirement already satisfied: pyyaml>=5.1 in /Users/sri/Library/Python/3.9/lib/python/site-packages (from transformers) (6.0.1)\n",
            "Requirement already satisfied: tokenizers<0.20,>=0.19 in /Users/sri/Library/Python/3.9/lib/python/site-packages (from transformers) (0.19.1)\n",
            "Requirement already satisfied: safetensors>=0.4.1 in /Users/sri/Library/Python/3.9/lib/python/site-packages (from transformers) (0.4.3)\n",
            "Requirement already satisfied: numpy>=1.17 in /Users/sri/Library/Python/3.9/lib/python/site-packages (from transformers) (1.26.4)\n",
            "Requirement already satisfied: huggingface-hub<1.0,>=0.19.3 in /Users/sri/Library/Python/3.9/lib/python/site-packages (from transformers) (0.23.0)\n",
            "Requirement already satisfied: tqdm>=4.27 in /Users/sri/Library/Python/3.9/lib/python/site-packages (from transformers) (4.66.2)\n",
            "Requirement already satisfied: packaging>=20.0 in /Users/sri/Library/Python/3.9/lib/python/site-packages (from transformers) (24.0)\n",
            "Requirement already satisfied: filelock in /Users/sri/Library/Python/3.9/lib/python/site-packages (from transformers) (3.14.0)\n",
            "Requirement already satisfied: requests in /Users/sri/Library/Python/3.9/lib/python/site-packages (from transformers) (2.31.0)\n",
            "Requirement already satisfied: fsspec>=2023.5.0 in /Users/sri/Library/Python/3.9/lib/python/site-packages (from huggingface-hub<1.0,>=0.19.3->transformers) (2024.3.1)\n",
            "Requirement already satisfied: typing-extensions>=3.7.4.3 in /Users/sri/Library/Python/3.9/lib/python/site-packages (from huggingface-hub<1.0,>=0.19.3->transformers) (4.11.0)\n",
            "Requirement already satisfied: urllib3<3,>=1.21.1 in /Users/sri/Library/Python/3.9/lib/python/site-packages (from requests->transformers) (2.2.1)\n",
            "Requirement already satisfied: idna<4,>=2.5 in /Users/sri/Library/Python/3.9/lib/python/site-packages (from requests->transformers) (3.7)\n",
            "Requirement already satisfied: certifi>=2017.4.17 in /Users/sri/Library/Python/3.9/lib/python/site-packages (from requests->transformers) (2024.2.2)\n",
            "Requirement already satisfied: charset-normalizer<4,>=2 in /Users/sri/Library/Python/3.9/lib/python/site-packages (from requests->transformers) (3.3.2)\n",
            "\u001b[33mWARNING: You are using pip version 21.2.4; however, version 24.0 is available.\n",
            "You should consider upgrading via the '/Library/Developer/CommandLineTools/usr/bin/python3 -m pip install --upgrade pip' command.\u001b[0m\n",
            "Note: you may need to restart the kernel to use updated packages.\n"
          ]
        }
      ],
      "source": [
        "pip install transformers"
      ]
    },
    {
      "cell_type": "markdown",
      "metadata": {
        "id": "qfYcZm8rsxm6"
      },
      "source": [
        "## Installing Torch"
      ]
    },
    {
      "cell_type": "code",
      "execution_count": null,
      "metadata": {
        "colab": {
          "base_uri": "https://localhost:8080/"
        },
        "id": "c8D82FfXb94F",
        "outputId": "018cdd05-6371-470c-86db-93614c351f76"
      },
      "outputs": [
        {
          "name": "stdout",
          "output_type": "stream",
          "text": [
            "Defaulting to user installation because normal site-packages is not writeable\n",
            "Requirement already satisfied: torch in /Users/sri/Library/Python/3.9/lib/python/site-packages (2.3.0)\n",
            "Requirement already satisfied: sympy in /Users/sri/Library/Python/3.9/lib/python/site-packages (from torch) (1.12)\n",
            "Requirement already satisfied: filelock in /Users/sri/Library/Python/3.9/lib/python/site-packages (from torch) (3.14.0)\n",
            "Requirement already satisfied: typing-extensions>=4.8.0 in /Users/sri/Library/Python/3.9/lib/python/site-packages (from torch) (4.11.0)\n",
            "Requirement already satisfied: networkx in /Users/sri/Library/Python/3.9/lib/python/site-packages (from torch) (3.2.1)\n",
            "Requirement already satisfied: jinja2 in /Users/sri/Library/Python/3.9/lib/python/site-packages (from torch) (3.1.3)\n",
            "Requirement already satisfied: fsspec in /Users/sri/Library/Python/3.9/lib/python/site-packages (from torch) (2024.3.1)\n",
            "Requirement already satisfied: MarkupSafe>=2.0 in /Users/sri/Library/Python/3.9/lib/python/site-packages (from jinja2->torch) (2.1.5)\n",
            "Requirement already satisfied: mpmath>=0.19 in /Users/sri/Library/Python/3.9/lib/python/site-packages (from sympy->torch) (1.3.0)\n",
            "\u001b[33mWARNING: You are using pip version 21.2.4; however, version 24.0 is available.\n",
            "You should consider upgrading via the '/Library/Developer/CommandLineTools/usr/bin/python3 -m pip install --upgrade pip' command.\u001b[0m\n",
            "Note: you may need to restart the kernel to use updated packages.\n"
          ]
        }
      ],
      "source": [
        "pip install torch"
      ]
    },
    {
      "cell_type": "markdown",
      "metadata": {
        "id": "2iQHCdtQs0fY"
      },
      "source": [
        "##Installing Rouge-Score"
      ]
    },
    {
      "cell_type": "code",
      "execution_count": null,
      "metadata": {
        "colab": {
          "base_uri": "https://localhost:8080/"
        },
        "id": "3i2APnRMiVrV",
        "outputId": "8e626156-eb2c-4d06-fc80-4ad7115c16de"
      },
      "outputs": [
        {
          "name": "stdout",
          "output_type": "stream",
          "text": [
            "Defaulting to user installation because normal site-packages is not writeable\n",
            "Requirement already satisfied: rouge-score in /Users/sri/Library/Python/3.9/lib/python/site-packages (0.1.2)\n",
            "Requirement already satisfied: numpy in /Users/sri/Library/Python/3.9/lib/python/site-packages (from rouge-score) (1.26.4)\n",
            "Requirement already satisfied: six>=1.14.0 in /Library/Developer/CommandLineTools/Library/Frameworks/Python3.framework/Versions/3.9/lib/python3.9/site-packages (from rouge-score) (1.15.0)\n",
            "Requirement already satisfied: nltk in /Users/sri/Library/Python/3.9/lib/python/site-packages (from rouge-score) (3.8.1)\n",
            "Requirement already satisfied: absl-py in /Users/sri/Library/Python/3.9/lib/python/site-packages (from rouge-score) (2.1.0)\n",
            "Requirement already satisfied: regex>=2021.8.3 in /Users/sri/Library/Python/3.9/lib/python/site-packages (from nltk->rouge-score) (2024.4.28)\n",
            "Requirement already satisfied: tqdm in /Users/sri/Library/Python/3.9/lib/python/site-packages (from nltk->rouge-score) (4.66.2)\n",
            "Requirement already satisfied: joblib in /Users/sri/Library/Python/3.9/lib/python/site-packages (from nltk->rouge-score) (1.4.2)\n",
            "Requirement already satisfied: click in /Users/sri/Library/Python/3.9/lib/python/site-packages (from nltk->rouge-score) (8.1.7)\n",
            "\u001b[33mWARNING: You are using pip version 21.2.4; however, version 24.0 is available.\n",
            "You should consider upgrading via the '/Library/Developer/CommandLineTools/usr/bin/python3 -m pip install --upgrade pip' command.\u001b[0m\n",
            "Note: you may need to restart the kernel to use updated packages.\n"
          ]
        }
      ],
      "source": [
        "pip install rouge-score"
      ]
    },
    {
      "cell_type": "markdown",
      "metadata": {
        "id": "KcMBN5Cb8HQh"
      },
      "source": [
        "##Install OpenAI"
      ]
    },
    {
      "cell_type": "code",
      "execution_count": null,
      "metadata": {
        "id": "eS3PKwDd8Frm",
        "outputId": "742b1d72-153b-42a5-c398-6bb51a0c624d"
      },
      "outputs": [
        {
          "name": "stdout",
          "output_type": "stream",
          "text": [
            "Defaulting to user installation because normal site-packages is not writeable\n",
            "Requirement already satisfied: openai in /Users/sri/Library/Python/3.9/lib/python/site-packages (1.25.1)\n",
            "Requirement already satisfied: anyio<5,>=3.5.0 in /Users/sri/Library/Python/3.9/lib/python/site-packages (from openai) (4.3.0)\n",
            "Requirement already satisfied: typing-extensions<5,>=4.7 in /Users/sri/Library/Python/3.9/lib/python/site-packages (from openai) (4.11.0)\n",
            "Requirement already satisfied: httpx<1,>=0.23.0 in /Users/sri/Library/Python/3.9/lib/python/site-packages (from openai) (0.27.0)\n",
            "Requirement already satisfied: sniffio in /Users/sri/Library/Python/3.9/lib/python/site-packages (from openai) (1.3.1)\n",
            "Requirement already satisfied: tqdm>4 in /Users/sri/Library/Python/3.9/lib/python/site-packages (from openai) (4.66.2)\n",
            "Requirement already satisfied: pydantic<3,>=1.9.0 in /Users/sri/Library/Python/3.9/lib/python/site-packages (from openai) (2.7.1)\n",
            "Requirement already satisfied: distro<2,>=1.7.0 in /Users/sri/Library/Python/3.9/lib/python/site-packages (from openai) (1.9.0)\n",
            "Requirement already satisfied: idna>=2.8 in /Users/sri/Library/Python/3.9/lib/python/site-packages (from anyio<5,>=3.5.0->openai) (3.7)\n",
            "Requirement already satisfied: exceptiongroup>=1.0.2 in /Users/sri/Library/Python/3.9/lib/python/site-packages (from anyio<5,>=3.5.0->openai) (1.2.1)\n",
            "Requirement already satisfied: certifi in /Users/sri/Library/Python/3.9/lib/python/site-packages (from httpx<1,>=0.23.0->openai) (2024.2.2)\n",
            "Requirement already satisfied: httpcore==1.* in /Users/sri/Library/Python/3.9/lib/python/site-packages (from httpx<1,>=0.23.0->openai) (1.0.5)\n",
            "Requirement already satisfied: h11<0.15,>=0.13 in /Users/sri/Library/Python/3.9/lib/python/site-packages (from httpcore==1.*->httpx<1,>=0.23.0->openai) (0.14.0)\n",
            "Requirement already satisfied: pydantic-core==2.18.2 in /Users/sri/Library/Python/3.9/lib/python/site-packages (from pydantic<3,>=1.9.0->openai) (2.18.2)\n",
            "Requirement already satisfied: annotated-types>=0.4.0 in /Users/sri/Library/Python/3.9/lib/python/site-packages (from pydantic<3,>=1.9.0->openai) (0.6.0)\n",
            "\u001b[33mWARNING: You are using pip version 21.2.4; however, version 24.0 is available.\n",
            "You should consider upgrading via the '/Library/Developer/CommandLineTools/usr/bin/python3 -m pip install --upgrade pip' command.\u001b[0m\n",
            "Note: you may need to restart the kernel to use updated packages.\n"
          ]
        }
      ],
      "source": [
        "pip install openai"
      ]
    },
    {
      "cell_type": "markdown",
      "metadata": {
        "id": "qTIljhJtAo3j"
      },
      "source": [
        "##Installing NLTK"
      ]
    },
    {
      "cell_type": "code",
      "execution_count": null,
      "metadata": {
        "id": "XZhxrTk3AnQx",
        "outputId": "0dd34305-124d-4a4e-cb7c-338c14da01e7"
      },
      "outputs": [
        {
          "name": "stdout",
          "output_type": "stream",
          "text": [
            "Defaulting to user installation because normal site-packages is not writeable\n",
            "Requirement already satisfied: nltk in /Users/sri/Library/Python/3.9/lib/python/site-packages (3.8.1)\n",
            "Requirement already satisfied: regex>=2021.8.3 in /Users/sri/Library/Python/3.9/lib/python/site-packages (from nltk) (2024.4.28)\n",
            "Requirement already satisfied: joblib in /Users/sri/Library/Python/3.9/lib/python/site-packages (from nltk) (1.4.2)\n",
            "Requirement already satisfied: click in /Users/sri/Library/Python/3.9/lib/python/site-packages (from nltk) (8.1.7)\n",
            "Requirement already satisfied: tqdm in /Users/sri/Library/Python/3.9/lib/python/site-packages (from nltk) (4.66.2)\n",
            "\u001b[33mWARNING: You are using pip version 21.2.4; however, version 24.0 is available.\n",
            "You should consider upgrading via the '/Library/Developer/CommandLineTools/usr/bin/python3 -m pip install --upgrade pip' command.\u001b[0m\n",
            "Note: you may need to restart the kernel to use updated packages.\n"
          ]
        }
      ],
      "source": [
        "pip install nltk"
      ]
    },
    {
      "cell_type": "code",
      "execution_count": null,
      "metadata": {
        "id": "sR73lU3wCF-g",
        "outputId": "2d1dff83-7e4b-430b-e023-3ed29402f9ae"
      },
      "outputs": [
        {
          "name": "stdout",
          "output_type": "stream",
          "text": [
            "Defaulting to user installation because normal site-packages is not writeable\n",
            "Requirement already satisfied: pandas in /Users/sri/Library/Python/3.9/lib/python/site-packages (2.2.2)\n",
            "Requirement already satisfied: pytz>=2020.1 in /Users/sri/Library/Python/3.9/lib/python/site-packages (from pandas) (2024.1)\n",
            "Requirement already satisfied: python-dateutil>=2.8.2 in /Users/sri/Library/Python/3.9/lib/python/site-packages (from pandas) (2.9.0.post0)\n",
            "Requirement already satisfied: tzdata>=2022.7 in /Users/sri/Library/Python/3.9/lib/python/site-packages (from pandas) (2024.1)\n",
            "Requirement already satisfied: numpy>=1.22.4 in /Users/sri/Library/Python/3.9/lib/python/site-packages (from pandas) (1.26.4)\n",
            "Requirement already satisfied: six>=1.5 in /Library/Developer/CommandLineTools/Library/Frameworks/Python3.framework/Versions/3.9/lib/python3.9/site-packages (from python-dateutil>=2.8.2->pandas) (1.15.0)\n",
            "\u001b[33mWARNING: You are using pip version 21.2.4; however, version 24.0 is available.\n",
            "You should consider upgrading via the '/Library/Developer/CommandLineTools/usr/bin/python3 -m pip install --upgrade pip' command.\u001b[0m\n",
            "Note: you may need to restart the kernel to use updated packages.\n"
          ]
        }
      ],
      "source": [
        "pip install pandas\n"
      ]
    },
    {
      "cell_type": "code",
      "execution_count": null,
      "metadata": {
        "id": "kCh0uB-VCF-g",
        "outputId": "61f6ce6c-3ded-4842-d736-25c0fa91a0b1"
      },
      "outputs": [
        {
          "name": "stdout",
          "output_type": "stream",
          "text": [
            "Defaulting to user installation because normal site-packages is not writeable\n",
            "Requirement already satisfied: matplotlib in /Users/sri/Library/Python/3.9/lib/python/site-packages (3.8.4)\n",
            "Requirement already satisfied: pillow>=8 in /Users/sri/Library/Python/3.9/lib/python/site-packages (from matplotlib) (10.3.0)\n",
            "Requirement already satisfied: pyparsing>=2.3.1 in /Users/sri/Library/Python/3.9/lib/python/site-packages (from matplotlib) (3.1.2)\n",
            "Requirement already satisfied: python-dateutil>=2.7 in /Users/sri/Library/Python/3.9/lib/python/site-packages (from matplotlib) (2.9.0.post0)\n",
            "Requirement already satisfied: contourpy>=1.0.1 in /Users/sri/Library/Python/3.9/lib/python/site-packages (from matplotlib) (1.2.1)\n",
            "Requirement already satisfied: packaging>=20.0 in /Users/sri/Library/Python/3.9/lib/python/site-packages (from matplotlib) (24.0)\n",
            "Requirement already satisfied: kiwisolver>=1.3.1 in /Users/sri/Library/Python/3.9/lib/python/site-packages (from matplotlib) (1.4.5)\n",
            "Requirement already satisfied: numpy>=1.21 in /Users/sri/Library/Python/3.9/lib/python/site-packages (from matplotlib) (1.26.4)\n",
            "Requirement already satisfied: cycler>=0.10 in /Users/sri/Library/Python/3.9/lib/python/site-packages (from matplotlib) (0.12.1)\n",
            "Requirement already satisfied: fonttools>=4.22.0 in /Users/sri/Library/Python/3.9/lib/python/site-packages (from matplotlib) (4.51.0)\n",
            "Requirement already satisfied: importlib-resources>=3.2.0 in /Users/sri/Library/Python/3.9/lib/python/site-packages (from matplotlib) (6.4.0)\n",
            "Requirement already satisfied: zipp>=3.1.0 in /Users/sri/Library/Python/3.9/lib/python/site-packages (from importlib-resources>=3.2.0->matplotlib) (3.18.1)\n",
            "Requirement already satisfied: six>=1.5 in /Library/Developer/CommandLineTools/Library/Frameworks/Python3.framework/Versions/3.9/lib/python3.9/site-packages (from python-dateutil>=2.7->matplotlib) (1.15.0)\n",
            "\u001b[33mWARNING: You are using pip version 21.2.4; however, version 24.0 is available.\n",
            "You should consider upgrading via the '/Library/Developer/CommandLineTools/usr/bin/python3 -m pip install --upgrade pip' command.\u001b[0m\n",
            "Note: you may need to restart the kernel to use updated packages.\n"
          ]
        }
      ],
      "source": [
        "pip install matplotlib"
      ]
    },
    {
      "cell_type": "markdown",
      "metadata": {
        "id": "Xr6OjCeos4LJ"
      },
      "source": [
        "##Importing Required Modules"
      ]
    },
    {
      "cell_type": "code",
      "execution_count": null,
      "metadata": {
        "id": "j3lyPDkIsNmE",
        "outputId": "d1bd41e5-df96-47b6-953c-f15673d85e4e"
      },
      "outputs": [
        {
          "name": "stderr",
          "output_type": "stream",
          "text": [
            "[nltk_data] Downloading package stopwords to /Users/sri/nltk_data...\n",
            "[nltk_data]   Package stopwords is already up-to-date!\n"
          ]
        },
        {
          "data": {
            "text/plain": [
              "True"
            ]
          },
          "execution_count": 143,
          "metadata": {},
          "output_type": "execute_result"
        }
      ],
      "source": [
        "import torch\n",
        "from transformers import BartTokenizer, BartForConditionalGeneration, pipeline\n",
        "from rouge_score import rouge_scorer\n",
        "import openai\n",
        "import string\n",
        "import os\n",
        "import random\n",
        "import nltk\n",
        "from nltk.corpus import stopwords\n",
        "nltk.download('stopwords')"
      ]
    },
    {
      "cell_type": "markdown",
      "metadata": {
        "id": "LDV3IeZrs7gr"
      },
      "source": [
        "##Intilizing Bert Module"
      ]
    },
    {
      "cell_type": "code",
      "execution_count": null,
      "metadata": {
        "id": "fDWF6HzIsSA9"
      },
      "outputs": [],
      "source": [
        "tokenizer = BartTokenizer.from_pretrained('facebook/bart-large-cnn')\n",
        "model = BartForConditionalGeneration.from_pretrained('facebook/bart-large-cnn')\n",
        "device = 0 if torch.cuda.is_available() else -1\n",
        "summarizer = pipeline(\"summarization\", model=model, tokenizer=tokenizer, device=device)"
      ]
    },
    {
      "cell_type": "markdown",
      "metadata": {
        "id": "RkisEtrutHae"
      },
      "source": [
        "##Function to Summarize the Text"
      ]
    },
    {
      "cell_type": "code",
      "execution_count": null,
      "metadata": {
        "id": "sW7JYvnRseoQ"
      },
      "outputs": [],
      "source": [
        "def summarize_text_chunks(chunks):\n",
        "    summaries = []\n",
        "    for chunk in chunks:\n",
        "        try:\n",
        "            summary = summarizer(chunk, min_length=10, max_length=400, do_sample=False)[0]['summary_text']\n",
        "            summaries.append(summary)\n",
        "        except Exception as e:\n",
        "            print(f\"Error in summarizing chunk: {str(e)}\")\n",
        "    return \" \".join(summaries)"
      ]
    },
    {
      "cell_type": "markdown",
      "metadata": {
        "id": "Dc-KlY88tPuy"
      },
      "source": [
        "##Running the Functions on Files"
      ]
    },
    {
      "cell_type": "code",
      "execution_count": null,
      "metadata": {
        "colab": {
          "base_uri": "https://localhost:8080/"
        },
        "id": "3z3FGFfimtCu",
        "outputId": "d8562854-da3a-45ba-ca70-d808775c8daf"
      },
      "outputs": [
        {
          "name": "stdout",
          "output_type": "stream",
          "text": [
            "Error in summarizing chunk: index out of range in self\n",
            "$$$$$$$$$$$$$$$$$$$$$$$$$$$$$$$$$$$$$$$$$$$$$$$$$$$$$$$$$$$$$$$$$$$$$$$$$$$$$$$$$$$$$$$$$$$$$\n",
            "Summary for US11087317.txt:\n",
            "Patent Number: US11087317. Title: Authentication and verification services for third party vendors using mobile devices. Vendor passes this information to the transaction handler (or payment gateway) who verifies the authenticity of the provided information. The vendor then completes the transaction by billing the user. While the ASVI information is supposed to be known only to the end-user practical constraints force the user to have a fixed set of this information.\n",
            "\n",
            "ROUGE scores for US11087317.txt:\n",
            "{'rouge1': Score(precision=1.0, recall=0.031318923687692984, fmeasure=0.060735671514114624), 'rouge2': Score(precision=0.9714285714285714, recall=0.03000882612533098, fmeasure=0.058219178082191785), 'rougeL': Score(precision=1.0, recall=0.031318923687692984, fmeasure=0.060735671514114624)}\n",
            "\n",
            "$$$$$$$$$$$$$$$$$$$$$$$$$$$$$$$$$$$$$$$$$$$$$$$$$$$$$$$$$$$$$$$$$$$$$$$$$$$$$$$$$$$$$$$$$$$$$\n",
            "Error in summarizing chunk: index out of range in self\n",
            "$$$$$$$$$$$$$$$$$$$$$$$$$$$$$$$$$$$$$$$$$$$$$$$$$$$$$$$$$$$$$$$$$$$$$$$$$$$$$$$$$$$$$$$$$$$$$\n",
            "Summary for US11032734.txt:\n",
            "US11032734. Patent Number: US110 32734. Title: Network congestion control via paging procedures.PDF Link: https://patentimages.storage.googleapis.com/fe/4c/10/3ae68f4e00c175/US11032534.pdf A base station may comprise the apparatus of this paragraph. An exemplary computer program product includes a computer-readable storage medium bearing computer program code embodied therein for use with a computer. A user equipment in idle mode and camped on a current cell which in response to receiving a paging message indicating the user equipment should perform a process to select a cell for camping on for idle mode.\n",
            "\n",
            "ROUGE scores for US11032734.txt:\n",
            "{'rouge1': Score(precision=0.968421052631579, recall=0.03636363636363636, fmeasure=0.0700952380952381), 'rouge2': Score(precision=0.9148936170212766, recall=0.034005535784895215, fmeasure=0.06557377049180328), 'rougeL': Score(precision=0.9578947368421052, recall=0.03596837944664032, fmeasure=0.06933333333333334)}\n",
            "\n",
            "$$$$$$$$$$$$$$$$$$$$$$$$$$$$$$$$$$$$$$$$$$$$$$$$$$$$$$$$$$$$$$$$$$$$$$$$$$$$$$$$$$$$$$$$$$$$$\n"
          ]
        },
        {
          "name": "stderr",
          "output_type": "stream",
          "text": [
            "Your max_length is set to 400, but your input_length is only 125. Since this is a summarization task, where outputs shorter than the input are typically wanted, you might consider decreasing max_length manually, e.g. summarizer('...', max_length=62)\n"
          ]
        },
        {
          "name": "stdout",
          "output_type": "stream",
          "text": [
            "Error in summarizing chunk: index out of range in self\n",
            "Error in summarizing chunk: index out of range in self\n",
            "Error in summarizing chunk: index out of range in self\n",
            "Error in summarizing chunk: index out of range in self\n",
            "Error in summarizing chunk: index out of range in self\n",
            "Error in summarizing chunk: index out of range in self\n",
            "Error in summarizing chunk: index out of range in self\n",
            "Error in summarizing chunk: index out of range in self\n",
            "$$$$$$$$$$$$$$$$$$$$$$$$$$$$$$$$$$$$$$$$$$$$$$$$$$$$$$$$$$$$$$$$$$$$$$$$$$$$$$$$$$$$$$$$$$$$$\n",
            "Summary for US7911943.txt:\n",
            "Patent Number: US7911943. Title: Optimization of PDP context usage.PDF Link: https://patentimages.storage.googleapis.com/54/fe/90/df51299e3207c6/US79 11943. NGN or WLAN access to IMS an intersystem handover is made simpler if a single PDP context is used. Similar policy control concepts can be used for all accesses. The above and still further objects features and advantages of the invention will become more apparent upon referring to the description.\n",
            "\n",
            "ROUGE scores for US7911943.txt:\n",
            "{'rouge1': Score(precision=0.9722222222222222, recall=0.008347245409015025, fmeasure=0.01655237644833294), 'rouge2': Score(precision=0.9295774647887324, recall=0.007871198568872988, fmeasure=0.015610217596972566), 'rougeL': Score(precision=0.9722222222222222, recall=0.008347245409015025, fmeasure=0.01655237644833294)}\n",
            "\n",
            "$$$$$$$$$$$$$$$$$$$$$$$$$$$$$$$$$$$$$$$$$$$$$$$$$$$$$$$$$$$$$$$$$$$$$$$$$$$$$$$$$$$$$$$$$$$$$\n",
            "Error in summarizing chunk: index out of range in self\n",
            "Error in summarizing chunk: index out of range in self\n",
            "Error in summarizing chunk: index out of range in self\n",
            "Error in summarizing chunk: index out of range in self\n",
            "Error in summarizing chunk: index out of range in self\n",
            "Error in summarizing chunk: index out of range in self\n",
            "$$$$$$$$$$$$$$$$$$$$$$$$$$$$$$$$$$$$$$$$$$$$$$$$$$$$$$$$$$$$$$$$$$$$$$$$$$$$$$$$$$$$$$$$$$$$$\n",
            "Summary for US8396306.txt:\n",
            "Patent Number: US8396306. Title: Method for processing a digital image.PDF Link: https://patentimages.storage.googleapis.com/e5/17/30/dbd679056c83d3/US8396 306.pdf. The first table lookup may return information of the bit length of the first bitstream entry and the number of coefficients being stepped through or return information to a second table lookup. In this way the first table. lookup will either return the information needed on the bitstream. entry or. return information for analysing the first part of the bits using the last eight bits of the. bit sequence.\n",
            "\n",
            "ROUGE scores for US8396306.txt:\n",
            "{'rouge1': Score(precision=0.978494623655914, recall=0.01378161441768893, fmeasure=0.02718040621266428), 'rouge2': Score(precision=0.9456521739130435, recall=0.013177824901544986, fmeasure=0.02599342694950702), 'rougeL': Score(precision=0.967741935483871, recall=0.013630168105406633, fmeasure=0.026881720430107527)}\n",
            "\n",
            "$$$$$$$$$$$$$$$$$$$$$$$$$$$$$$$$$$$$$$$$$$$$$$$$$$$$$$$$$$$$$$$$$$$$$$$$$$$$$$$$$$$$$$$$$$$$$\n",
            "$$$$$$$$$$$$$$$$$$$$$$$$$$$$$$$$$$$$$$$$$$$$$$$$$$$$$$$$$$$$$$$$$$$$$$$$$$$$$$$$$$$$$$$$$$$$$\n",
            "Summary for US7565410.txt:\n",
            "Patent Number: US7565410. Title: Distributed network.PDF Link: https://patentimages.storage.googleapis.com/bf/a0/4e/b1e034ccd5a05d/US7565 410. The resolution of an address is carried out by a dedicated resolver or server located at the resolver address which maps the PURL to a corresponding URL which URL is returned to a requesting process. By redirecting the process each time the preferred embodiments facilitate the adoption of the protocols and other measures necessary to ensure secure and confidential transfer of data.\n",
            "\n",
            "ROUGE scores for US7565410.txt:\n",
            "{'rouge1': Score(precision=0.9753086419753086, recall=0.04825901038485034, fmeasure=0.0919674039580908), 'rouge2': Score(precision=0.95, recall=0.04645476772616137, fmeasure=0.08857808857808856), 'rougeL': Score(precision=0.9753086419753086, recall=0.04825901038485034, fmeasure=0.0919674039580908)}\n",
            "\n",
            "$$$$$$$$$$$$$$$$$$$$$$$$$$$$$$$$$$$$$$$$$$$$$$$$$$$$$$$$$$$$$$$$$$$$$$$$$$$$$$$$$$$$$$$$$$$$$\n"
          ]
        },
        {
          "name": "stderr",
          "output_type": "stream",
          "text": [
            "Your max_length is set to 400, but your input_length is only 334. Since this is a summarization task, where outputs shorter than the input are typically wanted, you might consider decreasing max_length manually, e.g. summarizer('...', max_length=167)\n"
          ]
        },
        {
          "name": "stdout",
          "output_type": "stream",
          "text": [
            "Error in summarizing chunk: index out of range in self\n",
            "$$$$$$$$$$$$$$$$$$$$$$$$$$$$$$$$$$$$$$$$$$$$$$$$$$$$$$$$$$$$$$$$$$$$$$$$$$$$$$$$$$$$$$$$$$$$$\n",
            "Summary for US8397060.txt:\n",
            "Patent Number: US8397060. Title: Requesting digital certificates.PDF Link: https://patentimages.storage.googleapis.com/bb/a2/b4/aafd16338adf88/US839 7060. A processor is able to control a processor to perform operations. These operations include requesting a certificate from a certificate issuer by a generating entity. The processor then transmits the certificate request message to the certificate issuer.\n",
            "\n",
            "ROUGE scores for US8397060.txt:\n",
            "{'rouge1': Score(precision=0.9122807017543859, recall=0.024355971896955503, fmeasure=0.04744525547445255), 'rouge2': Score(precision=0.7678571428571429, recall=0.02014995313964386, fmeasure=0.039269406392694065), 'rougeL': Score(precision=0.8596491228070176, recall=0.022950819672131147, fmeasure=0.04470802919708029)}\n",
            "\n",
            "$$$$$$$$$$$$$$$$$$$$$$$$$$$$$$$$$$$$$$$$$$$$$$$$$$$$$$$$$$$$$$$$$$$$$$$$$$$$$$$$$$$$$$$$$$$$$\n",
            "$$$$$$$$$$$$$$$$$$$$$$$$$$$$$$$$$$$$$$$$$$$$$$$$$$$$$$$$$$$$$$$$$$$$$$$$$$$$$$$$$$$$$$$$$$$$$\n",
            "Summary for US8676950.txt:\n",
            "Patent Number: US8676950Title: Independent restarting of the nodes of a peer-to-peer network.PDF Link: https://patentimages.storage.googleapis.com/9c/32/91/e0625f8a8b5bfc/US867 6950.pdf The invention relates to peer-to-peer networks. These networks are made up of a set of interconnected nodes capable of self-management. For some applications the nodes must save data. This data may be data relating to a communication session.\n",
            "\n",
            "ROUGE scores for US8676950.txt:\n",
            "{'rouge1': Score(precision=0.9565217391304348, recall=0.041666666666666664, fmeasure=0.07985480943738657), 'rouge2': Score(precision=0.8970588235294118, recall=0.03853442830069488, fmeasure=0.07389460932768019), 'rougeL': Score(precision=0.9565217391304348, recall=0.041666666666666664, fmeasure=0.07985480943738657)}\n",
            "\n",
            "$$$$$$$$$$$$$$$$$$$$$$$$$$$$$$$$$$$$$$$$$$$$$$$$$$$$$$$$$$$$$$$$$$$$$$$$$$$$$$$$$$$$$$$$$$$$$\n"
          ]
        },
        {
          "name": "stderr",
          "output_type": "stream",
          "text": [
            "Your max_length is set to 400, but your input_length is only 342. Since this is a summarization task, where outputs shorter than the input are typically wanted, you might consider decreasing max_length manually, e.g. summarizer('...', max_length=171)\n"
          ]
        },
        {
          "name": "stdout",
          "output_type": "stream",
          "text": [
            "Error in summarizing chunk: index out of range in self\n",
            "Error in summarizing chunk: index out of range in self\n",
            "$$$$$$$$$$$$$$$$$$$$$$$$$$$$$$$$$$$$$$$$$$$$$$$$$$$$$$$$$$$$$$$$$$$$$$$$$$$$$$$$$$$$$$$$$$$$$\n",
            "Summary for US9847856.txt:\n",
            "Patent: Apparatus and method for time domain ICIC with muting pattern comprising fixed and optional parts. Patent Number: US9847856. According to a ninth aspect of the present invention a method may include by a processor obtaining a configuration of a flexible muting pattern and sending a message indicating the configuration to a user equipment. According to a eleventh aspect, a computer program product comprising a computer-readable medium bearing computer program code embodied therein for use with a computer may include code for getting the configuration.\n",
            "\n",
            "ROUGE scores for US9847856.txt:\n",
            "{'rouge1': Score(precision=0.9767441860465116, recall=0.029546253957087584, fmeasure=0.05735745988391942), 'rouge2': Score(precision=0.9176470588235294, recall=0.02744546094299789, fmeasure=0.05329689101469081), 'rougeL': Score(precision=0.9651162790697675, recall=0.02919451283855083, fmeasure=0.056674632980539444)}\n",
            "\n",
            "$$$$$$$$$$$$$$$$$$$$$$$$$$$$$$$$$$$$$$$$$$$$$$$$$$$$$$$$$$$$$$$$$$$$$$$$$$$$$$$$$$$$$$$$$$$$$\n"
          ]
        },
        {
          "name": "stderr",
          "output_type": "stream",
          "text": [
            "Your max_length is set to 400, but your input_length is only 147. Since this is a summarization task, where outputs shorter than the input are typically wanted, you might consider decreasing max_length manually, e.g. summarizer('...', max_length=73)\n"
          ]
        },
        {
          "name": "stdout",
          "output_type": "stream",
          "text": [
            "Error in summarizing chunk: index out of range in self\n",
            "Error in summarizing chunk: index out of range in self\n",
            "$$$$$$$$$$$$$$$$$$$$$$$$$$$$$$$$$$$$$$$$$$$$$$$$$$$$$$$$$$$$$$$$$$$$$$$$$$$$$$$$$$$$$$$$$$$$$\n",
            "Summary for US9819752.txt:\n",
            "Patent Number: US9819752. Title: Method and system for discovery of services in interconnected smart spaces.  means for sending said local information aggregation to parent nodes if any and a processing node among the parent nodes comprises processing means for processing upon reception the discovery request for a service. It is to be understood that both the foregoing general description and the following detailed description are only exemplary and do not limit the claimed inventions.\n",
            "\n",
            "ROUGE scores for US9819752.txt:\n",
            "{'rouge1': Score(precision=1.0, recall=0.026390870185449358, fmeasure=0.05142460041695622), 'rouge2': Score(precision=0.9726027397260274, recall=0.025330003567606136, fmeasure=0.049374130737134904), 'rougeL': Score(precision=1.0, recall=0.026390870185449358, fmeasure=0.05142460041695622)}\n",
            "\n",
            "$$$$$$$$$$$$$$$$$$$$$$$$$$$$$$$$$$$$$$$$$$$$$$$$$$$$$$$$$$$$$$$$$$$$$$$$$$$$$$$$$$$$$$$$$$$$$\n",
            "Error in summarizing chunk: index out of range in self\n",
            "$$$$$$$$$$$$$$$$$$$$$$$$$$$$$$$$$$$$$$$$$$$$$$$$$$$$$$$$$$$$$$$$$$$$$$$$$$$$$$$$$$$$$$$$$$$$$\n",
            "Summary for US10064117.txt:\n",
            "System and method for managing user equipment movement driven cell system load balancing. Network elements determine whether a user or user equipment in a first location is within a threshold distance of a second location of better coverage. Upon such a determination the network can provide a higher level of service. Location 110 a provides a first coverage/service-level 115 to the UE 110. At the location 110 b the user would have a second better coverage/ service-level 117 due to its proximity to the small cell eNB access node 140. Having poor reception in the intervening region 110 c (as illustrated by the poor bit rate/QoS at this point in FIG. 2) will discourage a user of the UE110 from moving from the locations 110 a to 110 b and thus prevents geographic load-balancing.\n",
            "\n",
            "ROUGE scores for US10064117.txt:\n",
            "{'rouge1': Score(precision=0.9928057553956835, recall=0.06568300809138505, fmeasure=0.12321428571428572), 'rouge2': Score(precision=0.9492753623188406, recall=0.062380952380952384, fmeasure=0.11706881143878463), 'rougeL': Score(precision=0.9856115107913669, recall=0.06520704426463589, fmeasure=0.12232142857142857)}\n",
            "\n",
            "$$$$$$$$$$$$$$$$$$$$$$$$$$$$$$$$$$$$$$$$$$$$$$$$$$$$$$$$$$$$$$$$$$$$$$$$$$$$$$$$$$$$$$$$$$$$$\n"
          ]
        }
      ],
      "source": [
        "def process_document(file_path):\n",
        "    text = read_text_file(file_path)\n",
        "    chunks = segment_text(text)\n",
        "    summary = summarize_text_chunks(chunks)\n",
        "    scorer = rouge_scorer.RougeScorer(['rouge1', 'rouge2', 'rougeL'], use_stemmer=True)\n",
        "    scores = scorer.score(text, summary)\n",
        "    return summary, scores\n",
        "\n",
        "allpatentdocs = os.path.abspath(\"AllPatentTextDocs\")\n",
        "\n",
        "# Get a list of all the text files in the directory\n",
        "text_files = [f for f in os.listdir(allpatentdocs) if f.endswith(\".txt\")]\n",
        "\n",
        "# Select 200 random file names\n",
        "random_files = random.sample(text_files, 10)\n",
        "\n",
        "for doc_path in random_files:\n",
        "    if doc_path.endswith(\".txt\"):\n",
        "        file_path = os.path.join(allpatentdocs, doc_path)\n",
        "        text = preprocess_text(file_path)\n",
        "        summary, rouge_scores = process_document(file_path)\n",
        "        print(\"$$$$$$$$$$$$$$$$$$$$$$$$$$$$$$$$$$$$$$$$$$$$$$$$$$$$$$$$$$$$$$$$$$$$$$$$$$$$$$$$$$$$$$$$$$$$$\")\n",
        "        print(f\"Summary for {doc_path}:\\n{summary}\\n\")\n",
        "        print(f\"ROUGE scores for {doc_path}:\\n{rouge_scores}\\n\")\n",
        "        print(\"$$$$$$$$$$$$$$$$$$$$$$$$$$$$$$$$$$$$$$$$$$$$$$$$$$$$$$$$$$$$$$$$$$$$$$$$$$$$$$$$$$$$$$$$$$$$$\")"
      ]
    }
  ],
  "metadata": {
    "colab": {
      "machine_shape": "hm",
      "provenance": []
    },
    "kernelspec": {
      "display_name": "Python 3",
      "name": "python3"
    },
    "language_info": {
      "codemirror_mode": {
        "name": "ipython",
        "version": 3
      },
      "file_extension": ".py",
      "mimetype": "text/x-python",
      "name": "python",
      "nbconvert_exporter": "python",
      "pygments_lexer": "ipython3",
      "version": "3.9.6"
    }
  },
  "nbformat": 4,
  "nbformat_minor": 0
}